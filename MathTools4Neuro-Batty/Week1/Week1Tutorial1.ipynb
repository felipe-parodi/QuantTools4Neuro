{
  "nbformat": 4,
  "nbformat_minor": 0,
  "metadata": {
    "colab": {
      "name": "Week1Tutorial1.ipynb",
      "provenance": [],
      "collapsed_sections": [],
      "toc_visible": true,
      "authorship_tag": "ABX9TyOlyJARbt3b91xH11jgccoH",
      "include_colab_link": true
    },
    "kernelspec": {
      "name": "python3",
      "display_name": "Python 3"
    }
  },
  "cells": [
    {
      "cell_type": "markdown",
      "metadata": {
        "id": "view-in-github",
        "colab_type": "text"
      },
      "source": [
        "<a href=\"https://colab.research.google.com/github/ebatty/MathToolsforNeuroscience/blob/master/Week1/Week1Tutorial1.ipynb\" target=\"_parent\"><img src=\"https://colab.research.google.com/assets/colab-badge.svg\" alt=\"Open In Colab\"/></a>"
      ]
    },
    {
      "cell_type": "markdown",
      "metadata": {
        "id": "S9l0lyqLvkW7"
      },
      "source": [
        "# Week 1 Tutorial: Linear Algebra I, Vectors\n",
        "\n",
        "# Tutorial 1\n",
        "\n",
        "# [insert your name]\n",
        "\n",
        "**Important reminders**: Before starting, click \"File -> Save a copy in Drive\". Produce a pdf for submission by \"File -> Print\" and then choose \"Save to PDF\".\n",
        "\n",
        "To complete this tutorial, you should have watched Video 1.1: Vectors, Video 1.2: Vector operations, and Video 1.3: Vector spaces.\n",
        "\n",
        "### Learning objectives\n",
        "* Review and use vector properties and operations such as vector length, scalar multiplication, and vector addition\n",
        "* Gain a better understanding of the dot product\n",
        "* Think about optimal stimuli in the context of linear algebra\n",
        "* Gain more intuition about correlation coefficients"
      ]
    },
    {
      "cell_type": "code",
      "metadata": {
        "id": "cv9HSBNPyLV9"
      },
      "source": [
        "# Imports\n",
        "import numpy as np\n",
        "import matplotlib.pyplot as plt\n",
        "import matplotlib\n",
        "import ipywidgets as widgets   \n",
        "\n",
        "# Plotting parameters\n",
        "matplotlib.rcParams.update({'font.size': 22})"
      ],
      "execution_count": null,
      "outputs": []
    },
    {
      "cell_type": "code",
      "metadata": {
        "id": "ZIdPVYl9TzmK",
        "cellView": "form"
      },
      "source": [
        "# @title Hidden functions\n",
        "\n",
        "def generate_unit_vec(dim=4):\n",
        "  \"\"\"Generate random unit vector with only positive values. Please note that this\n",
        "  is not at all a principled correct way of doing this (not truly random)\n",
        "\n",
        "  Args:\n",
        "    dim (scalar): dimension of the unit vector\n",
        "  \n",
        "  \"\"\" \n",
        "  vec = -1* np.ones(dim,)\n",
        "  while np.any(vec<0):\n",
        "    vec = np.random.randn(4,)\n",
        "  unit_vec = vec/np.linalg.norm(vec)\n",
        "  return unit_vec\n",
        "\n",
        "def plot_responses_vs_angles(responses, angles):\n",
        "  \"\"\" Plot neural responses as a function of the angle between the pixel vector \n",
        "  and weight vector.\n",
        "\n",
        "  Args:\n",
        "    responses (ndarray): the responses of the neuron to each image (n_images x 1)\n",
        "    angles (ndarray): the corresponding angle of each image to the weight vector (n_images x 1)\n",
        "\n",
        "  \"\"\"\n",
        "\n",
        "  fig, ax = plt.subplots(1, 1, figsize=(10,10))\n",
        "  ax.plot(angles, responses, 'o', color = '#0DD3C4')\n",
        "  ax.set(xlabel='Angle (degrees)', ylabel='Neural response')"
      ],
      "execution_count": null,
      "outputs": []
    },
    {
      "cell_type": "markdown",
      "metadata": {
        "id": "P-jDLhyJBn2r"
      },
      "source": [
        "# Key concept review\n",
        "This section is a review of/reference for key concepts introduced in the videos. No need to read now as it will be repetitive with the videos.\n",
        "\n",
        "## Vectors\n",
        "\n",
        "* Vectors are ordered lists of numbers that can also be viewed geometrically (as arrows)\n",
        "\n",
        "## Vector operations\n",
        "\n",
        "*   Length of a vector: $||\\bar{x}|| = \\sqrt{\\sum_{i=1}^N x_i^2} = \\sqrt{\\bar{x}\\cdot \\bar{x}}$\n",
        "*   Unit vectors have length = 1. To make a unit vector version of $\\bar{x}$: $\\hat{x} = \\frac{\\bar{x}}{||\\bar{x}||}$\n",
        "*   Zero vectors ($\\bar{0}$) have all components equal to 0\n",
        "*   Scalar multiplication of a vector: \n",
        "$$ a\\bar{x} = \\begin{bmatrix}\n",
        "    ax_1 \\\\ ax_2 \\\\ \\vdots \\\\ ax_N\n",
        "\\end{bmatrix}$$\n",
        "\n",
        "*   Vector addition:\n",
        " $$\\bar{x} + \\bar{y} = \\begin{bmatrix}\n",
        "           x_{1} + y_1 \\\\ x_{2} + y_2\\\\ \\vdots \\\\ x_{N} + y_N \n",
        "\\end{bmatrix}$$\n",
        "*   Dot product: $\\bar{x} \\cdot \\bar{y} = \\sum_{i=1}^N x_iy_i$\n",
        "\n",
        "## Vector spaces\n",
        "\n",
        "* Linear combination: building one vector as the sum of scaled multiples of other vectors\n",
        "* The span of a set of vectors, $Span\\{\\bar{v}_1, \\bar{v}_2, ...\\}$, is the set of all linear combinations of those vectors \n",
        "* A set of non-zero vectors is linearly dependent if one member of the set is a linear combination of the others, otherwise they are linearly independent.\n",
        "* A basis for a given space is a set of linearly independent vectors that spans the space. \n",
        "* A vector space V is a collection of vectors for which 2 operations are defined, addition and multiplication by a scalar, that satisfy the below axioms for all vectors in V. If $\\bar{x}, \\bar{y},$ and $\\bar{z}$ are any vectors in V:\n",
        "\n",
        "    1.  $\\bar{x} + \\bar{y}$ is in V\n",
        "    2.  $\\bar{x} + \\bar{y} = \\bar{y} + \\bar{x}$\n",
        "    3.  $(\\bar{x} + \\bar{y}) + \\bar{z} = \\bar{x} + (\\bar{y} + \\bar{z})$\n",
        "    4.  Zero vector exists in V such that $\\bar{x} + \\bar{0} = \\bar{x}$\n",
        "    5.  The inverse $-\\bar{x}$ exists such that $\\bar{x} + (-\\bar{x}) = \\bar{0}$\n",
        "    6. $c\\bar{x}$ is in V\n",
        "    7. $c(\\bar{x} + \\bar{y}) = c\\bar{x} + c\\bar{y}$\n",
        "    8. $(c+d)\\bar{x} = c\\bar{x} + d\\bar{x}$\n",
        "    9. $c(d\\bar{x}) = (cd)\\bar{x})$\n",
        "    10. $1\\bar{x} = \\bar{x}$\n"
      ]
    },
    {
      "cell_type": "markdown",
      "metadata": {
        "id": "_DjeN9TZyEZL"
      },
      "source": [
        "# Coding tips \n",
        "\n",
        "We will mostly use numpy in this course, especially for the linear algebra section. We can use 1D numpy arrays for vectors: for example we could write $\\bar{x}$ = [4, 5] as `x = np.array([4, 5])`.\n",
        "\n"
      ]
    },
    {
      "cell_type": "code",
      "metadata": {
        "id": "F5XKLvVcHrw6"
      },
      "source": [
        "# Defining vectors\n",
        "x = np.array([4, 5])\n",
        "y = np.array([1, 2])\n",
        "\n",
        "# Length of a vector\n",
        "length_of_x = np.linalg.norm(x)\n",
        "\n",
        "# Scalar multiplication\n",
        "scalar_multiplied_x = 5*x\n",
        "\n",
        "# Vector addition\n",
        "summed_vectors = x + y\n",
        "\n",
        "# Dot product\n",
        "dot_prod = np.dot(x, y)"
      ],
      "execution_count": null,
      "outputs": []
    },
    {
      "cell_type": "markdown",
      "metadata": {
        "id": "NPASg1qGvxze"
      },
      "source": [
        "# Exercise 1: Relationship between the dot product of two vectors and the angle between them\n",
        "\n",
        "In this exercise, we will explore and prove the relationship between the dot product of two vectors and the angle between them. \n",
        "\n"
      ]
    },
    {
      "cell_type": "markdown",
      "metadata": {
        "id": "EZUpF-pyxafi"
      },
      "source": [
        "### A) Interactive demo\n",
        "\n",
        "First, use the following interactive demo to change the dot product of two vectors and see what happens to them (under the constraint that each vector stays the same length). \n"
      ]
    },
    {
      "cell_type": "code",
      "metadata": {
        "id": "dvdHSl9IvqeT",
        "cellView": "form"
      },
      "source": [
        "#@title\n",
        "\n",
        "#@markdown Make sure you execute this cell to enable the widget!\n",
        "\n",
        "def solve_equations(dot_prod, x = [4, 1], norm_x = np.sqrt(17), norm_y = 3):\n",
        "  i = 0 if dot_prod < 0 else 1\n",
        "  y1 = np.roots([17, -8*dot_prod, dot_prod**2-9])[i]\n",
        "  y2 = dot_prod - 4*y1\n",
        "  y = [y1, y2]\n",
        "  return y\n",
        "\n",
        "def plot_arrows(x, y):\n",
        "  fig, ax = plt.subplots(figsize=(7, 7))\n",
        "\n",
        "  ax.axhline(linewidth=1, color='k') #adds thick red line @ y=0\n",
        "  ax.axvline(linewidth=1, color='k') \n",
        "  #ax.grid()\n",
        "  ax.set_xlim([-6, 6])\n",
        "  ax.set_ylim([-6, 6])\n",
        "  ax.axis('Off')\n",
        "\n",
        "\n",
        "  ax.arrow(0, 0, x[0], x[1], width=.08, color='#01DFD7');\n",
        "  ax.arrow(0, 0, y[0], y[1], width=.08, color='#0080FF');\n",
        "\n",
        "\n",
        "@widgets.interact(dot_prod=widgets.FloatSlider(value=1.0, min=-12.3, max=12.3, step=0.1))\n",
        "def plot_data_estimate(dot_prod):\n",
        "  y = solve_equations(dot_prod)\n",
        "  plot_arrows([4, 1], y)\n"
      ],
      "execution_count": null,
      "outputs": []
    },
    {
      "cell_type": "markdown",
      "metadata": {
        "id": "GTTbfzJ4xgj9"
      },
      "source": [
        "i) Does the angle between vectors increase or decrease as the dot product increases? \n",
        "\n",
        "ii) Does it seem like anything is special about a dot product of 0? \n"
      ]
    },
    {
      "cell_type": "markdown",
      "metadata": {
        "id": "G4Kcivzpxl46"
      },
      "source": [
        "**Your text answer here to i/ii**"
      ]
    },
    {
      "cell_type": "markdown",
      "metadata": {
        "id": "yknFa-Emxcon"
      },
      "source": [
        "### B) Proof of relationship \n",
        "\n",
        "It turns out that there is a direct relationship between the dot product of two vecors and the angle between them. The dot product is equal to the length of vector 1 multiplied by the length of vector 2 multiplied by the cosine of the angle:\n",
        "\n",
        "$$ \\bar{x} \\cdot \\bar{y} =  ||\\bar{x}|| ||\\bar{y}|| cos(\\theta) $$\n",
        "\n",
        "\n",
        "We will now work through a guided proof of this relationship - our first proof! "
      ]
    },
    {
      "cell_type": "markdown",
      "metadata": {
        "id": "MnIPed7LMg_n"
      },
      "source": [
        "![picture](https://drive.google.com/uc?export=view&id=1Lxj0dY_8CpgMhR_SSeRuQdO6-AYpwgj6)\n"
      ]
    },
    {
      "cell_type": "markdown",
      "metadata": {
        "id": "raZcEnn3KBeB"
      },
      "source": [
        "i) Start by using the law of cosines to write out a formula for $||\\bar{a}||^2$\n",
        "\n",
        "ii) Next, figure out what $||\\bar{a}||$ equals in terms of $\\bar{x}$ and $\\bar{y}$ (hint: think about vector operations/stacking vectors)\n",
        "\n",
        "iii) Write $||\\bar{a}||^2$ in terms of a dot product. Substitute in the definition of $||\\bar{a}||$ from ii and expand.\n",
        "\n",
        "iv) Equate the formulas for $||\\bar{a}||^2$ from i and iii and rearrange to solve for the dot product of $\\bar{x}$ and $\\bar{y}$. You should get the equation above!\n"
      ]
    },
    {
      "cell_type": "markdown",
      "metadata": {
        "id": "mRUxzD1kNDoY"
      },
      "source": [
        "**Your math answer here**"
      ]
    },
    {
      "cell_type": "markdown",
      "metadata": {
        "id": "PIeCSyRyMj6Z"
      },
      "source": [
        "## C) Resulting properties of the dot product\n",
        "\n",
        "There are some key properties of the dot product that are easier to see now that we have the definition in terms of the angle between vectors:\n",
        "\n",
        "$$ \\bar{x} \\cdot \\bar{y} =  ||\\bar{x}|| ||\\bar{y}|| cos(\\theta) $$\n",
        "\n",
        "\n",
        "i) What does a dot product of zero tell us about the angle between two vectors? (Optional: Can you think of a term that describes two vectors with this angle between them?)\n",
        "\n",
        "ii) If you are taking the dot product of two unit vectors, what is the maximum dot product and what is the minimum?"
      ]
    },
    {
      "cell_type": "markdown",
      "metadata": {
        "id": "fcp9vikLMx4Q"
      },
      "source": [
        "**Your text answer here**"
      ]
    },
    {
      "cell_type": "markdown",
      "metadata": {
        "id": "hdv1stq_Nj-E"
      },
      "source": [
        "# Exercise 2: Optimal stimuli for a neuron\n",
        "\n",
        "Let's say that we are modeling the response of a retinal ganglion cell with a receptive field equal to 4 pixels. We are using a simple model in which the response of the neuron corresponds to the weighted sum of the pixel intensities of those 4 pixels. Specifically, the weight from pixel 1 is 2, the weight from pixel 2 is 4, the weight from pixel 3 is 1, and the weight from pixel 4 is 5."
      ]
    },
    {
      "cell_type": "markdown",
      "metadata": {
        "id": "94RiLSEAPFOU"
      },
      "source": [
        "## A) Coding the neuron\n",
        "\n",
        "Complete the function below to compute the response of the model neuron described above given pixel intensities $P_1$ through $P_4$. Use the dot product function `np.dot`. Fill in all `...`\n"
      ]
    },
    {
      "cell_type": "code",
      "metadata": {
        "id": "8La9n-FHNpBU"
      },
      "source": [
        "def compute_response(weights, pixels):\n",
        "\n",
        "  r = ... # compute the response\n",
        "\n",
        "  return \n",
        "\n",
        "# Example pixel values\n",
        "p1 = 3\n",
        "p2 = 2\n",
        "p3 = 1\n",
        "p4 = 3\n",
        "\n",
        "weights = ... # set the weights of the neuron\n",
        "response = compute_response(weights, ...)\n",
        "\n",
        "# Uncomment below when done\n",
        "# print(response)"
      ],
      "execution_count": null,
      "outputs": []
    },
    {
      "cell_type": "markdown",
      "metadata": {
        "id": "yClgkS_nQcs5"
      },
      "source": [
        "You should get a response of 30."
      ]
    },
    {
      "cell_type": "markdown",
      "metadata": {
        "id": "EPcXqj9PQhd1"
      },
      "source": [
        "## B) Experimentation\n",
        "\n",
        "Let's say that we're recording the responses of the neuron while presenting various \"images\" (various pixel combinations that we represent with a vector). We are choosing these images so that our pixel vector is always a unit vector. For each random image, compute the response and the angle of that pixel vector with the vector of weights (hint: use `np.arccos`). We will then plot the neural response as a function of the angle (using a hidden function `plot_responses_vs_angles`).\n",
        "\n",
        "Note that the concept of an angle is hard to visualize here when we're working in 4D space! It can be helpful to visualize as if in 2D"
      ]
    },
    {
      "cell_type": "code",
      "metadata": {
        "id": "BwrqwsdYQgQx"
      },
      "source": [
        "n_images = 100 # how many images we present\n",
        "\n",
        "# Set up arrays for storing responses/angles\n",
        "responses = np.zeros((n_images,))\n",
        "angles = np.zeros((n_images))\n",
        "responses[:] = np.nan\n",
        "angles[:] = np.nan\n",
        "\n",
        "# Loop through images\n",
        "for i_image in range(n_images):\n",
        "\n",
        "  pixel_vector = generate_unit_vec()\n",
        "\n",
        "  ## Fill out below and uncomment\n",
        "\n",
        "  # Compute the response of the neuron (hint: use part A)\n",
        "  #responses[i_image] = ... \n",
        "\n",
        "  # Compute the angle between pixel vector and the weight vector (hint: use dot product def again and np.arccos)\n",
        "  #angles[i_image] = ... \n",
        "\n",
        "plot_responses_vs_angles(responses, angles)\n"
      ],
      "execution_count": null,
      "outputs": []
    },
    {
      "cell_type": "markdown",
      "metadata": {
        "id": "NtHz6xxzZC_X"
      },
      "source": [
        "From the resulting plot, what can you tell about how the image similarity to the weights (in terms of angle between weight and pixel vector) affects neural response?\n",
        "\n",
        "Optional advanced: Why do the angles only go between 0 and ~80 degrees? (as opposed to 0 and 180 degrees). Why am I specifying that the image should be a unit vector?"
      ]
    },
    {
      "cell_type": "markdown",
      "metadata": {
        "id": "og0JOdg7Zb50"
      },
      "source": [
        "**Your text answer here**"
      ]
    },
    {
      "cell_type": "markdown",
      "metadata": {
        "id": "AS3pb0SxaD-g"
      },
      "source": [
        "## C) Computing optimal stimuli\n",
        "\n",
        "How could we compute the optimal stimulus for this neuron (i.e. the image that results in the largest neural response) given the constraint that it must be a unit vector? \n",
        "\n",
        "i) Write out a formula for the optimal stimulus\n",
        "\n",
        "**Your math answer here**\n",
        "\n",
        "ii) Compute the optimal stimulus below. Make sure the response to it is larger than any in the plot above"
      ]
    },
    {
      "cell_type": "code",
      "metadata": {
        "id": "0q4qJGJUaYTQ"
      },
      "source": [
        "optimal_stimulus = ...\n",
        "\n",
        "# Uncomment below once you have computed the optimal stimulus\n",
        "#max_response = compute_response(weights, optimal_stimulus)\n",
        "#print(max_response)"
      ],
      "execution_count": null,
      "outputs": []
    },
    {
      "cell_type": "markdown",
      "metadata": {
        "id": "GAg4g23Lbvx2"
      },
      "source": [
        "# Exercise 3: Correlation coefficient\n",
        "\n",
        "Suppose we record from a population of 10,000 neurons and extract each neuron's mean firing rate in condition A and condition B. To quantify population firing similarity between the two conditions, we might calculate the **Pearson correlation coefficient** of the firing rates in the two conditions. \n",
        "\n",
        "Let $\\{a_i\\}_{i=1}^{10000}$ be the firing rates in condition A and $\\{b_i\\}_{i=1}^{10000}$ be the firing rates in codition B. Then the Pearson correlation coefficient $\\rho$ between the firing rates in the two conditions is calculated as:\n",
        "\n",
        "$$ \\rho = \\frac{\\sum_{i=1}^{10000}(a_i - \\mu_a)(b_i - \\mu_b)}{\\sqrt{\\sum_{i=1}^{10000}(a_i - \\mu_a)^2}\\sqrt{\\sum_{i=1}^{10000}(b_i - \\mu_b)^2}}$$\n",
        "\n",
        "where $\\mu_a$ and $\\mu_b$ are the mean firing rates of the population in the two conditions.\n",
        "\n",
        "For simplicity, let's say $\\{x_i\\}_{i=1}^{10000}$ are the firing rates in condition A with $\\mu_a$ already subtracted ($x_i = a_i-\\mu_a$) and $\\{y_i\\}_{i=1}^{10000}$ be the same for condition B ($y_i = b_i - \\mu_b$). \n",
        "\n",
        "\n"
      ]
    },
    {
      "cell_type": "markdown",
      "metadata": {
        "id": "TGbihZk-hlCv"
      },
      "source": [
        "## A) Derivation\n",
        "\n",
        "Show how $\\rho$ relates to the angle $\\theta$ between the two mean zero population firing vectors, $\\bar{x}$ and $\\bar{y}$. You should end with an equation for $\\rho$ in terms of $\\theta$. Hint: how can you transform the equation above to vectors and dot products?"
      ]
    },
    {
      "cell_type": "markdown",
      "metadata": {
        "id": "GhQlr-o0d9DW"
      },
      "source": [
        "**Your math answer here**\n"
      ]
    },
    {
      "cell_type": "markdown",
      "metadata": {
        "id": "IuM4qwjthoTJ"
      },
      "source": [
        "## B) Verification with code\n",
        "\n",
        "We will now compute the correlation coefficient of two firing rate vectors two ways: 1) using numpy's built in `np.corrcoef` function (provided) and 2) using your formula from part A.  Make sure the computed correlation coefficients from the two methods match!"
      ]
    },
    {
      "cell_type": "code",
      "metadata": {
        "id": "otL0ZMUChsAs"
      },
      "source": [
        "## Method 1 (provided)\n",
        "\n",
        "np.random.seed(123)\n",
        "\n",
        "# Generate firing rate vectors (in Hz)\n",
        "a = np.random.randint(0, 100, size=(10000,))\n",
        "b = a+50*np.random.randn(10000,)\n",
        "\n",
        "# Compute Pearsons correlation coefficient\n",
        "p = np.corrcoef(a, b)[0, 1]\n",
        "print('Pearson correlation coefficient = '+str(p))"
      ],
      "execution_count": null,
      "outputs": []
    },
    {
      "cell_type": "code",
      "metadata": {
        "id": "L1L-VSA1iJMw"
      },
      "source": [
        "## Method 2 (your turn)\n",
        "\n",
        "# Use your formula from Part A to compute the correlation coefficient\n",
        "# Hint: you'll need to compute the angle between vectors\n",
        "\n",
        "your_p = ...\n",
        "print('Pearson correlation coefficient = '+str(your_p))\n"
      ],
      "execution_count": null,
      "outputs": []
    },
    {
      "cell_type": "code",
      "metadata": {
        "id": "hr5d0-YnqGYF"
      },
      "source": [
        ""
      ],
      "execution_count": null,
      "outputs": []
    }
  ]
}
