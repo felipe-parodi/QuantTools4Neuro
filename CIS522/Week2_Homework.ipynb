{
  "nbformat": 4,
  "nbformat_minor": 0,
  "metadata": {
    "colab": {
      "name": "CIS522_W2_H2",
      "provenance": [],
      "mount_file_id": "1GaRzJE4cqss1-SSCzuK1cUBK6xTfzFfu",
      "authorship_tag": "ABX9TyPFQUFMDsFtwydoKGQgGjjU",
      "include_colab_link": true
    },
    "kernelspec": {
      "name": "python3",
      "display_name": "Python 3"
    },
    "widgets": {
      "application/vnd.jupyter.widget-state+json": {
        "60a6d043e2e5427eab9e467a3508cbe4": {
          "model_module": "@jupyter-widgets/controls",
          "model_name": "HBoxModel",
          "state": {
            "_view_name": "HBoxView",
            "_dom_classes": [],
            "_model_name": "HBoxModel",
            "_view_module": "@jupyter-widgets/controls",
            "_model_module_version": "1.5.0",
            "_view_count": null,
            "_view_module_version": "1.5.0",
            "box_style": "",
            "layout": "IPY_MODEL_5a80ad15bce14131a2b82917db3aa55f",
            "_model_module": "@jupyter-widgets/controls",
            "children": [
              "IPY_MODEL_95313b11c1e7467097e33e5834dd1f45",
              "IPY_MODEL_b97fe90bb28147be894effcfd2a1d061"
            ]
          }
        },
        "5a80ad15bce14131a2b82917db3aa55f": {
          "model_module": "@jupyter-widgets/base",
          "model_name": "LayoutModel",
          "state": {
            "_view_name": "LayoutView",
            "grid_template_rows": null,
            "right": null,
            "justify_content": null,
            "_view_module": "@jupyter-widgets/base",
            "overflow": null,
            "_model_module_version": "1.2.0",
            "_view_count": null,
            "flex_flow": null,
            "width": null,
            "min_width": null,
            "border": null,
            "align_items": null,
            "bottom": null,
            "_model_module": "@jupyter-widgets/base",
            "top": null,
            "grid_column": null,
            "overflow_y": null,
            "overflow_x": null,
            "grid_auto_flow": null,
            "grid_area": null,
            "grid_template_columns": null,
            "flex": null,
            "_model_name": "LayoutModel",
            "justify_items": null,
            "grid_row": null,
            "max_height": null,
            "align_content": null,
            "visibility": null,
            "align_self": null,
            "height": null,
            "min_height": null,
            "padding": null,
            "grid_auto_rows": null,
            "grid_gap": null,
            "max_width": null,
            "order": null,
            "_view_module_version": "1.2.0",
            "grid_template_areas": null,
            "object_position": null,
            "object_fit": null,
            "grid_auto_columns": null,
            "margin": null,
            "display": null,
            "left": null
          }
        },
        "95313b11c1e7467097e33e5834dd1f45": {
          "model_module": "@jupyter-widgets/controls",
          "model_name": "FloatProgressModel",
          "state": {
            "_view_name": "ProgressView",
            "style": "IPY_MODEL_03ede0e8358248049383533c51f260bf",
            "_dom_classes": [],
            "description": "loss: 1.033075: 100%",
            "_model_name": "FloatProgressModel",
            "bar_style": "success",
            "max": 500,
            "_view_module": "@jupyter-widgets/controls",
            "_model_module_version": "1.5.0",
            "value": 500,
            "_view_count": null,
            "_view_module_version": "1.5.0",
            "orientation": "horizontal",
            "min": 0,
            "description_tooltip": null,
            "_model_module": "@jupyter-widgets/controls",
            "layout": "IPY_MODEL_0e757fa0843540edbd64ebc2c20911b3"
          }
        },
        "b97fe90bb28147be894effcfd2a1d061": {
          "model_module": "@jupyter-widgets/controls",
          "model_name": "HTMLModel",
          "state": {
            "_view_name": "HTMLView",
            "style": "IPY_MODEL_9670a44b23384a4588fdfce3d3156e0a",
            "_dom_classes": [],
            "description": "",
            "_model_name": "HTMLModel",
            "placeholder": "​",
            "_view_module": "@jupyter-widgets/controls",
            "_model_module_version": "1.5.0",
            "value": " 500/500 [36:52&lt;00:00,  4.42s/it]",
            "_view_count": null,
            "_view_module_version": "1.5.0",
            "description_tooltip": null,
            "_model_module": "@jupyter-widgets/controls",
            "layout": "IPY_MODEL_d404df43816e40ca95a0112c2b988ad2"
          }
        },
        "03ede0e8358248049383533c51f260bf": {
          "model_module": "@jupyter-widgets/controls",
          "model_name": "ProgressStyleModel",
          "state": {
            "_view_name": "StyleView",
            "_model_name": "ProgressStyleModel",
            "description_width": "initial",
            "_view_module": "@jupyter-widgets/base",
            "_model_module_version": "1.5.0",
            "_view_count": null,
            "_view_module_version": "1.2.0",
            "bar_color": null,
            "_model_module": "@jupyter-widgets/controls"
          }
        },
        "0e757fa0843540edbd64ebc2c20911b3": {
          "model_module": "@jupyter-widgets/base",
          "model_name": "LayoutModel",
          "state": {
            "_view_name": "LayoutView",
            "grid_template_rows": null,
            "right": null,
            "justify_content": null,
            "_view_module": "@jupyter-widgets/base",
            "overflow": null,
            "_model_module_version": "1.2.0",
            "_view_count": null,
            "flex_flow": null,
            "width": null,
            "min_width": null,
            "border": null,
            "align_items": null,
            "bottom": null,
            "_model_module": "@jupyter-widgets/base",
            "top": null,
            "grid_column": null,
            "overflow_y": null,
            "overflow_x": null,
            "grid_auto_flow": null,
            "grid_area": null,
            "grid_template_columns": null,
            "flex": null,
            "_model_name": "LayoutModel",
            "justify_items": null,
            "grid_row": null,
            "max_height": null,
            "align_content": null,
            "visibility": null,
            "align_self": null,
            "height": null,
            "min_height": null,
            "padding": null,
            "grid_auto_rows": null,
            "grid_gap": null,
            "max_width": null,
            "order": null,
            "_view_module_version": "1.2.0",
            "grid_template_areas": null,
            "object_position": null,
            "object_fit": null,
            "grid_auto_columns": null,
            "margin": null,
            "display": null,
            "left": null
          }
        },
        "9670a44b23384a4588fdfce3d3156e0a": {
          "model_module": "@jupyter-widgets/controls",
          "model_name": "DescriptionStyleModel",
          "state": {
            "_view_name": "StyleView",
            "_model_name": "DescriptionStyleModel",
            "description_width": "",
            "_view_module": "@jupyter-widgets/base",
            "_model_module_version": "1.5.0",
            "_view_count": null,
            "_view_module_version": "1.2.0",
            "_model_module": "@jupyter-widgets/controls"
          }
        },
        "d404df43816e40ca95a0112c2b988ad2": {
          "model_module": "@jupyter-widgets/base",
          "model_name": "LayoutModel",
          "state": {
            "_view_name": "LayoutView",
            "grid_template_rows": null,
            "right": null,
            "justify_content": null,
            "_view_module": "@jupyter-widgets/base",
            "overflow": null,
            "_model_module_version": "1.2.0",
            "_view_count": null,
            "flex_flow": null,
            "width": null,
            "min_width": null,
            "border": null,
            "align_items": null,
            "bottom": null,
            "_model_module": "@jupyter-widgets/base",
            "top": null,
            "grid_column": null,
            "overflow_y": null,
            "overflow_x": null,
            "grid_auto_flow": null,
            "grid_area": null,
            "grid_template_columns": null,
            "flex": null,
            "_model_name": "LayoutModel",
            "justify_items": null,
            "grid_row": null,
            "max_height": null,
            "align_content": null,
            "visibility": null,
            "align_self": null,
            "height": null,
            "min_height": null,
            "padding": null,
            "grid_auto_rows": null,
            "grid_gap": null,
            "max_width": null,
            "order": null,
            "_view_module_version": "1.2.0",
            "grid_template_areas": null,
            "object_position": null,
            "object_fit": null,
            "grid_auto_columns": null,
            "margin": null,
            "display": null,
            "left": null
          }
        }
      }
    }
  },
  "cells": [
    {
      "cell_type": "markdown",
      "metadata": {
        "id": "view-in-github",
        "colab_type": "text"
      },
      "source": [
        "<a href=\"https://colab.research.google.com/github/felipe-parodi/DL4DataScience/blob/main/Week2_Homework.ipynb\" target=\"_parent\"><img src=\"https://colab.research.google.com/assets/colab-badge.svg\" alt=\"Open In Colab\"/></a>"
      ]
    },
    {
      "cell_type": "markdown",
      "metadata": {
        "id": "U1Tk_Rkdy6FJ"
      },
      "source": [
        "## Week 2 Homework: Design a deep network for linear regression on the QSAR Fish Toxicity dataset."
      ]
    },
    {
      "cell_type": "code",
      "metadata": {
        "colab": {
          "base_uri": "https://localhost:8080/"
        },
        "id": "SPSe6-wAy1kO",
        "outputId": "876890a6-a170-4656-8b02-7830850368c1"
      },
      "source": [
        "import numpy as np\n",
        "import pandas as pd\n",
        "import random, time\n",
        "import matplotlib.pylab as plt\n",
        "%matplotlib inline \n",
        "import matplotlib as mpl\n",
        "from tqdm.notebook import tqdm, trange\n",
        "\n",
        "from sklearn.decomposition import PCA\n",
        "from sklearn.model_selection import train_test_split\n",
        "import torch\n",
        "import torch.nn as nn\n",
        "import torch.nn.functional as F\n",
        "import torch.optim as optim\n",
        "\n",
        "import warnings\n",
        "warnings.filterwarnings('ignore')\n",
        "\n",
        "url = 'https://archive.ics.uci.edu/ml/machine-learning-databases/00504/qsar_fish_toxicity.csv'\n",
        "\n",
        "headers = ['CIC0', 'SM1_Dz(Z)', 'GATS1i', 'NdsCH', 'NdssC', 'MLogP', 'LC50']\n",
        "\n",
        "df1 = pd.read_csv(url, names = headers, header=None, delimiter=\";\")\n",
        "\n",
        "X = np.array(df1)[:,:-1]\n",
        "y = np.array(df1)[:,-1].reshape(-1,1)\n",
        "\n",
        "print(f'Data: \\n{df1}')\n",
        "\n",
        "print(f'\\ninput shape of X: {X.shape}, ' \n",
        "      f'targets shape of y: {y.shape}')"
      ],
      "execution_count": null,
      "outputs": [
        {
          "output_type": "stream",
          "text": [
            "Data: \n",
            "      CIC0  SM1_Dz(Z)  GATS1i  NdsCH  NdssC  MLogP   LC50\n",
            "0    3.260      0.829   1.676      0      1  1.453  3.770\n",
            "1    2.189      0.580   0.863      0      0  1.348  3.115\n",
            "2    2.125      0.638   0.831      0      0  1.348  3.531\n",
            "3    3.027      0.331   1.472      1      0  1.807  3.510\n",
            "4    2.094      0.827   0.860      0      0  1.886  5.390\n",
            "..     ...        ...     ...    ...    ...    ...    ...\n",
            "903  2.801      0.728   2.226      0      2  0.736  3.109\n",
            "904  3.652      0.872   0.867      2      3  3.983  4.040\n",
            "905  3.763      0.916   0.878      0      6  2.918  4.818\n",
            "906  2.831      1.393   1.077      0      1  0.906  5.317\n",
            "907  4.057      1.032   1.183      1      3  4.754  8.201\n",
            "\n",
            "[908 rows x 7 columns]\n",
            "\n",
            "input shape of X: (908, 5), targets shape of y: (908, 1)\n",
            "[[3.26  0.829 1.676 0.    1.   ]\n",
            " [2.189 0.58  0.863 0.    0.   ]\n",
            " [2.125 0.638 0.831 0.    0.   ]\n",
            " ...\n",
            " [3.763 0.916 0.878 0.    6.   ]\n",
            " [2.831 1.393 1.077 0.    1.   ]\n",
            " [4.057 1.032 1.183 1.    3.   ]]\n"
          ],
          "name": "stdout"
        }
      ]
    },
    {
      "cell_type": "code",
      "metadata": {
        "colab": {
          "base_uri": "https://localhost:8080/",
          "height": 327
        },
        "cellView": "form",
        "id": "SF6A20KQ0lC2",
        "outputId": "427465e5-806a-4b04-fa04-4561711d3412"
      },
      "source": [
        "#@markdown ## 1. Decompose and visualize data (2 dims)\n",
        "# 1. Decompose and visualize data\n",
        "pca = PCA(2) # project from 6 to 2 dimensions\n",
        "pca.fit(X)\n",
        "Z = pca.transform(X)\n",
        "def arrow(v1, v2, ax):\n",
        "    arrowprops=dict(arrowstyle='->', linewidth=2, shrinkA=0, shrinkB=0)\n",
        "    ax.annotate(\"\", v2, v1, arrowprops=arrowprops)\n",
        "\n",
        "fig, axes = plt.subplots(1,2, figsize=(12,4))\n",
        "axes[0].axis('equal')\n",
        "axes[0].scatter(X[:,0], X[:,1])\n",
        "axes[1].axis('equal')\n",
        "axes[1].set_xlim(-3,3)\n",
        "axes[1].scatter(Z[:,0], Z[:,1])\n",
        "# for l, v in zip(pca.explained_variance_, pca.components_):\n",
        "#     arrow([0,0], v*l*3, axes[0])\n",
        "for l, v in zip([1.0,0.16], [np.array([1.0,0.0]),np.array([0.0,1.0])]):\n",
        "    arrow([0,0], v*l*3, axes[1])\n",
        "axes[0].set_title(\"Original\")\n",
        "axes[0].set_xlabel('IV')\n",
        "axes[0].set_ylabel('DV')\n",
        "axes[1].set_title(\"Reduced\")\n",
        "axes[1].set_xlabel('IV')\n",
        "axes[1].set_ylabel('DV');\n",
        "\n",
        "print('Original dimensions: ', X.shape)\n",
        "print('Reduced dimension: ', Z.shape)"
      ],
      "execution_count": null,
      "outputs": [
        {
          "output_type": "stream",
          "text": [
            "Original dimensions:  (908, 6)\n",
            "Reduced dimension:  (908, 2)\n"
          ],
          "name": "stdout"
        },
        {
          "output_type": "display_data",
          "data": {
            "image/png": "[encoded data removed]",
            "text/plain": [
              "<Figure size 864x288 with 2 Axes>"
            ]
          },
          "metadata": {
            "tags": [],
            "needs_background": "light"
          }
        }
      ]
    },
    {
      "cell_type": "code",
      "metadata": {
        "id": "hqN-Wk83VjNS",
        "colab": {
          "base_uri": "https://localhost:8080/",
          "height": 653,
          "referenced_widgets": [
            "60a6d043e2e5427eab9e467a3508cbe4",
            "5a80ad15bce14131a2b82917db3aa55f",
            "95313b11c1e7467097e33e5834dd1f45",
            "b97fe90bb28147be894effcfd2a1d061",
            "03ede0e8358248049383533c51f260bf",
            "0e757fa0843540edbd64ebc2c20911b3",
            "9670a44b23384a4588fdfce3d3156e0a",
            "d404df43816e40ca95a0112c2b988ad2"
          ]
        },
        "outputId": "5c7c0d82-8e62-4c7c-f3a1-c455cc2dd7b0"
      },
      "source": [
        "# 2. Split data\n",
        "train_size = 0.8\n",
        "test_size = 0.2\n",
        "train_X, test_X, train_y, test_y = train_test_split(X, y, \n",
        "      train_size=train_size, test_size=test_size, random_state=42)\n",
        "\n",
        "# Convert numpy array to tensor\n",
        "X = torch.from_numpy(train_X.astype(np.float32))\n",
        "y = torch.from_numpy(train_y.astype(np.float32))\n",
        "x_test = torch.from_numpy(test_X.astype(np.float32))\n",
        "y_test = torch.from_numpy(test_y.astype(np.float32))\n",
        "\n",
        "# 3. Build network\n",
        "input_dim = 6\n",
        "output_dim = 1\n",
        "h1, h2, h3 = 20, 15, 10\n",
        "\n",
        "mynetwork = nn.Sequential(nn.Linear(input_dim, h1),\n",
        "                      nn.Linear(h1, h2),\n",
        "                      nn.Linear(h2, h3),\n",
        "                      nn.Linear(h3, output_dim))\n",
        "\n",
        "\n",
        "# 4. Set hyperparameters\n",
        "learning_rate = 0.01\n",
        "criterion = nn.MSELoss()\n",
        "optimizer = torch.optim.SGD(mynetwork.parameters(), lr=learning_rate)\n",
        "\n",
        "training_losses = []\n",
        "test_losses = []\n",
        "num_epochs = 500\n",
        "epoch_range = trange(num_epochs, desc='loss: ', leave=True)\n",
        "\n",
        "\n",
        "# 5.1 Training \n",
        "for epoch in epoch_range:\n",
        "  if training_losses:\n",
        "    epoch_range.set_description(\"loss: {:.6f}\".format(training_losses[-1]))\n",
        "    epoch_range.refresh()\n",
        "  time.sleep(0.01)\n",
        "\n",
        "  # Compute loss, backpropagate, update, zero gradients\n",
        "  training_loss = criterion(mynetwork(X), y)\n",
        "  training_loss.backward()\n",
        "  optimizer.step()\n",
        "  optimizer.zero_grad()\n",
        "\n",
        "  # Compile losses\n",
        "  training_losses.append(training_loss)\n",
        "\n",
        "  if test_losses:\n",
        "    epoch_range.set_description(\"loss: {:.6f}\".format(test_losses[-1]))\n",
        "    epoch_range.refresh()\n",
        "  time.sleep(0.01)\n",
        "\n",
        "  # Compute loss, backpropagate, update, zero gradients\n",
        "  test_loss = criterion(mynetwork(x_test), y_test)\n",
        "  test_loss.backward()\n",
        "  optimizer.step()\n",
        "  optimizer.zero_grad()\n",
        "\n",
        "  # Compile losses\n",
        "  test_losses.append(test_loss)\n",
        "\n",
        "# Print training and testing loss\n",
        "preds_train = mynetwork(X) # 726x6 x 6x20\n",
        "preds_test = mynetwork(x_test) # 182x6 x 6x20\n",
        "training_loss = criterion(preds_train, y)\n",
        "test_loss = criterion(preds_test, y_test)\n",
        "print(f'The training loss is: {training_loss}')\n",
        "print(f'The test loss is: {test_loss}')\n",
        "\n",
        "# 5.2 Plot training and test loss vs. number of epochs\n",
        "plt.figure()\n",
        "plt.plot(training_losses, label='training', color='b')\n",
        "plt.plot(test_losses, label='test',color= 'r')\n",
        "plt.xlabel('Epoch')\n",
        "plt.ylabel('Loss')\n",
        "plt.title('Losses')\n",
        "plt.legend()\n",
        "plt.show()\n",
        "\n",
        "predicted = mynetwork(x_test).detach().numpy()\n",
        "\n",
        "\n",
        "# 6. Plot model's performance\n",
        "## doesn't yet plot what i want... i want y=y_hat\n",
        "plt.figure()\n",
        "plt.scatter(y_test, preds_test.detach().numpy(), \n",
        "            label='original data', alpha=0.5)\n",
        "plt.plot(y_test, y_test, label='regression', color='red') \n",
        "plt.xlabel('Actual')\n",
        "plt.ylabel('Predicted')\n",
        "plt.title('Model Performance')\n",
        "plt.legend()\n",
        "plt.show()\n"
      ],
      "execution_count": null,
      "outputs": [
        {
          "output_type": "display_data",
          "data": {
            "application/vnd.jupyter.widget-view+json": {
              "model_id": "60a6d043e2e5427eab9e467a3508cbe4",
              "version_minor": 0,
              "version_major": 2
            },
            "text/plain": [
              "HBox(children=(FloatProgress(value=0.0, description='loss: ', max=500.0, style=ProgressStyle(description_width…"
            ]
          },
          "metadata": {
            "tags": []
          }
        },
        {
          "output_type": "stream",
          "text": [
            "\n",
            "The training loss is: 0.875111997127533\n",
            "The test loss is: 1.0283515453338623\n"
          ],
          "name": "stdout"
        },
        {
          "output_type": "display_data",
          "data": {
            "image/png": "[encoded data removed]",
            "text/plain": [
              "<Figure size 432x288 with 1 Axes>"
            ]
          },
          "metadata": {
            "tags": [],
            "needs_background": "light"
          }
        },
        {
          "output_type": "display_data",
          "data": {
            "image/png": "[encoded data removed]",
            "text/plain": [
              "<Figure size 432x288 with 1 Axes>"
            ]
          },
          "metadata": {
            "tags": [],
            "needs_background": "light"
          }
        }
      ]
    },
    {
      "cell_type": "code",
      "metadata": {
        "id": "08T-JB8tJcvu"
      },
      "source": [
        "# 7. Train the model again by removing a feature\n",
        "# train_size = 0.8\n",
        "# test_size = 0.2\n",
        "# train_X, test_X, train_y, test_y = train_test_split(X, y, \n",
        "#       train_size=train_size, test_size=test_size, random_state=42)\n",
        "\n",
        "# # Convert numpy array to tensor\n",
        "# X = torch.from_numpy(train_X.astype(np.float32))\n",
        "# y = torch.from_numpy(train_y.astype(np.float32))\n",
        "# x_test = torch.from_numpy(test_X.astype(np.float32))\n",
        "# y_test = torch.from_numpy(test_y.astype(np.float32))\n",
        "\n",
        "\n",
        "##### STEPS ####\n",
        "# remove a feature to make X_removed\n",
        "# split data to make X_train_removed and X_test_removed\n",
        "# train\n",
        "\n",
        "# Build network\n",
        "input_dim = 5 # remove one feature\n",
        "output_dim = 1\n",
        "h1, h2, h3 = 20, 15, 10\n",
        "\n",
        "mynetwork = nn.Sequential(nn.Linear(input_dim, h1),\n",
        "                      nn.Linear(h1, h2),\n",
        "                      nn.Linear(h2, h3),\n",
        "                      nn.Linear(h3, output_dim))\n",
        "\n",
        "\n",
        "# 4. Set hyperparameters\n",
        "learning_rate = 0.01\n",
        "criterion = nn.MSELoss()\n",
        "optimizer = torch.optim.SGD(mynetwork.parameters(), lr=learning_rate)\n",
        "\n",
        "losses = []\n",
        "predictions = []\n",
        "num_epochs = 500\n",
        "epoch_range = trange(num_epochs, desc='loss: ', leave=True)\n",
        "\n",
        "\n",
        "# Training \n",
        "for epoch in epoch_range:\n",
        "  for i in range(6):\n",
        "    X \n",
        "    if losses:\n",
        "      epoch_range.set_description(\"loss: {:.6f}\".format(losses[-1]))\n",
        "      epoch_range.refresh()\n",
        "    time.sleep(0.01)\n",
        "\n",
        "    # Compute loss, backpropagate, update, zero gradients\n",
        "    loss = criterion(mynetwork(X), y)\n",
        "    loss.backward()\n",
        "    optimizer.step()\n",
        "    optimizer.zero_grad()\n",
        "\n",
        "    # Compile losses\n",
        "    losses.append(loss)\n",
        "\n",
        "predicted = mynetwork(x_test).detach().numpy()\n",
        "predictions.append(predicted)\n",
        "\n",
        "\n",
        "# 6. Plot model's performance\n",
        "plt.figure()\n",
        "plt.scatter(y_test, preds_test.detach().numpy(), \n",
        "            label='original data', alpha=0.5)\n",
        "plt.plot(y_test, y_test, label='regression', color='red') \n",
        "plt.xlabel('Actual')\n",
        "plt.ylabel('Predicted')\n",
        "plt.title('Model Performance')\n",
        "plt.legend()\n",
        "plt.show()\n",
        "\n",
        "\n",
        "\n",
        "## Remove CICO\n",
        "\n",
        "## Remove SM1_Dz(Z)\n",
        "\n",
        "## Remove GATS1i\n",
        "\n",
        "## Remove NdsCH\n",
        "\n",
        "## Remove NdssC\n",
        "\n",
        "## Remove MLogP\n",
        "\n",
        "\n",
        "plt.figure()\n",
        " for i, preds in enumerate(predictions):\n",
        "   plt.subplot(2, 3, i + 1)\n",
        "   plt.plot(...)  # plot original y vs. y_hat\n",
        "   plt.plot(...)  # y=y_hat\n",
        "   plt.legend()"
      ],
      "execution_count": null,
      "outputs": []
    }
  ]
}